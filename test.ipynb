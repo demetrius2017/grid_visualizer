{
 "cells": [
  {
   "cell_type": "code",
   "execution_count": 1,
   "metadata": {},
   "outputs": [
    {
     "data": {
      "image/png": "[encoded data removed]",
      "text/plain": [
       "<Figure size 640x480 with 1 Axes>"
      ]
     },
     "metadata": {},
     "output_type": "display_data"
    }
   ],
   "source": [
    "import matplotlib.pyplot as plt\n",
    "import numpy as np\n",
    "from matplotlib.animation import FuncAnimation\n",
    "\n",
    "class Candle:\n",
    "    def __init__(self, open_price, high, low, close):\n",
    "        self.open = open_price\n",
    "        self.high = high\n",
    "        self.low = low\n",
    "        self.close = close\n",
    "\n",
    "candles = []\n",
    "current_price = 100\n",
    "candles.append(Candle(current_price, current_price, current_price, current_price))\n",
    "\n",
    "volatility = 0.5  # Определяем волатильность\n",
    "stop_simulation = False\n",
    "\n",
    "fig, ax = plt.subplots()\n",
    "ax.set_xlim(0, 100)\n",
    "ax.set_ylim(90, 110)\n",
    "\n",
    "def on_move(event):\n",
    "    if event.inaxes and not stop_simulation:\n",
    "        global current_price\n",
    "        # Определение нового положения цены на основе координаты мыши и волатильности\n",
    "        new_price = event.ydata + np.random.uniform(-volatility, volatility)\n",
    "        current_price = new_price\n",
    "        open_price = candles[-1].close\n",
    "        high = max(open_price, current_price)\n",
    "        low = min(open_price, current_price)\n",
    "        close = current_price\n",
    "        candles.append(Candle(open_price, high, low, close))\n",
    "        if len(candles) > 100:  # Ограничиваем количество свечей\n",
    "            candles.pop(0)\n",
    "\n",
    "def on_click(event):\n",
    "    global stop_simulation\n",
    "    if event.button == 3:  # Правая кнопка мыши\n",
    "        stop_simulation = True\n",
    "\n",
    "def animate(i):\n",
    "    ax.clear()\n",
    "    ax.set_xlim(0, 100)\n",
    "    ax.set_ylim(min([c.low for c in candles]) - 5, max([c.high for c in candles]) + 5)\n",
    "\n",
    "    for j, candle in enumerate(candles):\n",
    "        color = 'green' if candle.close >= candle.open else 'red'\n",
    "        ax.plot([j, j], [candle.low, candle.high], color=color)\n",
    "        ax.plot([j - 0.1, j + 0.1], [candle.open, candle.open], color=color)\n",
    "        ax.plot([j - 0.1, j + 0.1], [candle.close, candle.close], color=color)\n",
    "\n",
    "fig.canvas.mpl_connect('motion_notify_event', on_move)\n",
    "fig.canvas.mpl_connect('button_press_event', on_click)\n",
    "ani = FuncAnimation(fig, animate, frames=200, repeat=False)\n",
    "plt.show()\n"
   ]
  }
 ],
 "metadata": {
  "kernelspec": {
   "display_name": "venv",
   "language": "python",
   "name": "python3"
  },
  "language_info": {
   "codemirror_mode": {
    "name": "ipython",
    "version": 3
   },
   "file_extension": ".py",
   "mimetype": "text/x-python",
   "name": "python",
   "nbconvert_exporter": "python",
   "pygments_lexer": "ipython3",
   "version": "3.11.5"
  }
 },
 "nbformat": 4,
 "nbformat_minor": 2
}
